{
 "cells": [
  {
   "cell_type": "markdown",
   "metadata": {},
   "source": [
    "### Trying to create a basic map of the watershed with the monitoring sites and the injection wells\n",
    "\n",
    "#### Shapefiles were shared by Dr. Chris Spiese (Northern Ohio University)\n",
    "\n",
    "#### I'll use the GeoPandas package, and a [tutorial from Juliet Cohen's blog](https://julietcohen.github.io/posts/2021-11-01-plotting-shapefiles-in-python/).\n",
    "\n",
    "### Installing GeoPandas:\n",
    "\n",
    "-  With anaconda, I created a geopandas environment (geo_env) then set up a conda forge channel (see this [tutorial](https://medium.com/analytics-vidhya/fastest-way-to-install-geopandas-in-jupyter-notebook-on-windows-8f734e11fa2b)).\n",
    "\n",
    "    `conda activate geo_env`\n",
    "    `conda config  --env --add channels conda-forge`\n",
    "    \n",
    "- I set the channel priority to be strict\n",
    " \n",
    "     `conda config --env --set channel_priority strict`\n",
    "     \n",
    "- Then I installed geopandas in that environment\n",
    " \n",
    "     `conda install geopandas`\n",
    "     \n",
    "- I tested to make sure it was installed corrected by starting python, running `import geopandas` (getting no error) and `exit()` -ed python\n",
    "\n",
    "- Then I installed jupyter notebook in the geo_env environment\n",
    "    \n",
    "    `conda install jupyter notebook`\n",
    "    \n",
    "- Next I added the geo_env environment to a notebook kernel\n",
    "\n",
    "    `python -m ipykernel install --name geo_env --user`"
   ]
  },
  {
   "cell_type": "code",
   "execution_count": 1,
   "metadata": {},
   "outputs": [
    {
     "ename": "ModuleNotFoundError",
     "evalue": "No module named 'geopandas'",
     "output_type": "error",
     "traceback": [
      "\u001b[0;31m---------------------------------------------------------------------------\u001b[0m",
      "\u001b[0;31mModuleNotFoundError\u001b[0m                       Traceback (most recent call last)",
      "\u001b[0;32m<ipython-input-1-2bacc5aa8b96>\u001b[0m in \u001b[0;36m<module>\u001b[0;34m\u001b[0m\n\u001b[1;32m      1\u001b[0m \u001b[0;32mimport\u001b[0m \u001b[0mpandas\u001b[0m \u001b[0;32mas\u001b[0m \u001b[0mpd\u001b[0m\u001b[0;34m\u001b[0m\u001b[0;34m\u001b[0m\u001b[0m\n\u001b[1;32m      2\u001b[0m \u001b[0;32mimport\u001b[0m \u001b[0mnumpy\u001b[0m \u001b[0;32mas\u001b[0m \u001b[0mnp\u001b[0m\u001b[0;34m\u001b[0m\u001b[0;34m\u001b[0m\u001b[0m\n\u001b[0;32m----> 3\u001b[0;31m \u001b[0;32mimport\u001b[0m \u001b[0mgeopandas\u001b[0m \u001b[0;32mas\u001b[0m \u001b[0mgpd\u001b[0m\u001b[0;34m\u001b[0m\u001b[0;34m\u001b[0m\u001b[0m\n\u001b[0m\u001b[1;32m      4\u001b[0m \u001b[0;32mimport\u001b[0m \u001b[0mmatplotlib\u001b[0m\u001b[0;34m.\u001b[0m\u001b[0mpyplot\u001b[0m \u001b[0;32mas\u001b[0m \u001b[0mplt\u001b[0m \u001b[0;31m# plot our data and manipulate the plot\u001b[0m\u001b[0;34m\u001b[0m\u001b[0;34m\u001b[0m\u001b[0m\n\u001b[1;32m      5\u001b[0m \u001b[0;32mimport\u001b[0m \u001b[0mcontextily\u001b[0m \u001b[0;32mas\u001b[0m \u001b[0mctx\u001b[0m \u001b[0;31m# add a default basemap under our polygons of interest\u001b[0m\u001b[0;34m\u001b[0m\u001b[0;34m\u001b[0m\u001b[0m\n",
      "\u001b[0;31mModuleNotFoundError\u001b[0m: No module named 'geopandas'"
     ]
    }
   ],
   "source": [
    "import pandas as pd  \n",
    "import numpy as np  \n",
    "import geopandas as gpd  \n",
    "import matplotlib.pyplot as plt # plot our data and manipulate the plot\n",
    "import contextily as ctx # add a default basemap under our polygons of interest"
   ]
  },
  {
   "cell_type": "code",
   "execution_count": null,
   "metadata": {},
   "outputs": [],
   "source": []
  }
 ],
 "metadata": {
  "kernelspec": {
   "display_name": "Python 3",
   "language": "python",
   "name": "python3"
  },
  "language_info": {
   "codemirror_mode": {
    "name": "ipython",
    "version": 3
   },
   "file_extension": ".py",
   "mimetype": "text/x-python",
   "name": "python",
   "nbconvert_exporter": "python",
   "pygments_lexer": "ipython3",
   "version": "3.8.3"
  }
 },
 "nbformat": 4,
 "nbformat_minor": 4
}
