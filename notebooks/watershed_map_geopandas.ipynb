{
 "cells": [
  {
   "cell_type": "markdown",
   "id": "c179f865",
   "metadata": {},
   "source": [
    "### Trying to create a basic map of the watershed with the monitoring sites and the injection wells\n",
    "\n",
    "#### Shapefiles were shared by Dr. Chris Spiese (Northern Ohio University)\n",
    "\n",
    "#### I'll use the GeoPandas package, and a [tutorial from Juliet Cohen's blog](https://julietcohen.github.io/posts/2021-11-01-plotting-shapefiles-in-python/).\n",
    "\n",
    "### Installing GeoPandas:\n",
    "\n",
    "-  With anaconda, I created a geopandas environment (geo_env) then set up a conda forge channel (see this [tutorial](https://medium.com/analytics-vidhya/fastest-way-to-install-geopandas-in-jupyter-notebook-on-windows-8f734e11fa2b)).\n",
    "\n",
    "    `conda activate geo_env`\n",
    "    `conda config  --env --add channels conda-forge`\n",
    "    \n",
    "- I set the channel priority to be strict\n",
    " \n",
    "     `conda config --env --set channel_priority strict`\n",
    "     \n",
    "- Then I installed geopandas in that environment\n",
    " \n",
    "     `conda install geopandas`\n",
    "     \n",
    "- I tested to make sure it was installed corrected by starting python, running `import geopandas` (getting no error) and `exit()` -ed python\n",
    "\n",
    "- Then I installed jupyter notebook in the geo_env environment\n",
    "    \n",
    "    `conda install jupyter notebook`\n",
    "    \n",
    "- Next I added the geo_env environment to a notebook kernel\n",
    "\n",
    "    `python -m ipykernel install --name geo_env --user`\n",
    "    \n",
    "- Finally, since I was already in the the geo_env environment and juptyer notebooks is installed, I activated a notebook (this one) to follow the rest of the tutorial."
   ]
  },
  {
   "cell_type": "code",
   "execution_count": null,
   "id": "69c9ba1f",
   "metadata": {},
   "outputs": [],
   "source": []
  }
 ],
 "metadata": {
  "kernelspec": {
   "display_name": "geo_env",
   "language": "python",
   "name": "geo_env"
  },
  "language_info": {
   "codemirror_mode": {
    "name": "ipython",
    "version": 3
   },
   "file_extension": ".py",
   "mimetype": "text/x-python",
   "name": "python",
   "nbconvert_exporter": "python",
   "pygments_lexer": "ipython3",
   "version": "3.10.6"
  }
 },
 "nbformat": 4,
 "nbformat_minor": 5
}
