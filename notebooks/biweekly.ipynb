{
 "cells": [
  {
   "cell_type": "markdown",
   "metadata": {},
   "source": [
    "### Plotting all CCBOR biweekly water sampling data"
   ]
  },
  {
   "cell_type": "code",
   "execution_count": 2,
   "metadata": {},
   "outputs": [],
   "source": [
    "import io\n",
    "import requests\n",
    "from pathlib import Path\n",
    "import seaborn as sns\n",
    "import pandas as pd\n",
    "\n",
    "import ctd\n",
    "import datetime"
   ]
  },
  {
   "cell_type": "code",
   "execution_count": 7,
   "metadata": {},
   "outputs": [
    {
     "data": {
      "text/html": [
       "<div>\n",
       "<style scoped>\n",
       "    .dataframe tbody tr th:only-of-type {\n",
       "        vertical-align: middle;\n",
       "    }\n",
       "\n",
       "    .dataframe tbody tr th {\n",
       "        vertical-align: top;\n",
       "    }\n",
       "\n",
       "    .dataframe thead th {\n",
       "        text-align: right;\n",
       "    }\n",
       "</style>\n",
       "<table border=\"1\" class=\"dataframe\">\n",
       "  <thead>\n",
       "    <tr style=\"text-align: right;\">\n",
       "      <th></th>\n",
       "      <th>Site # (1-9)</th>\n",
       "      <th>Sampling date</th>\n",
       "      <th>Sampling time</th>\n",
       "      <th>Watershed</th>\n",
       "      <th>Location</th>\n",
       "      <th>Samplers</th>\n",
       "      <th>Rainfall in last 48 hrs (inches)</th>\n",
       "      <th>Flow rate (0-5)</th>\n",
       "      <th>Water turbidity (0-3)</th>\n",
       "      <th>Water temperature (degrees C)</th>\n",
       "      <th>Total dissolved solids (mg/L)</th>\n",
       "      <th>Conductivity (µS)</th>\n",
       "      <th>Salinity (ppm)</th>\n",
       "      <th>Notes</th>\n",
       "    </tr>\n",
       "  </thead>\n",
       "  <tbody>\n",
       "  </tbody>\n",
       "</table>\n",
       "</div>"
      ],
      "text/plain": [
       "Empty DataFrame\n",
       "Columns: [Site # (1-9), Sampling date, Sampling time, Watershed, Location, Samplers, Rainfall in last 48 hrs (inches), Flow rate (0-5), Water turbidity (0-3), Water temperature (degrees C), Total dissolved solids (mg/L), Conductivity (µS), Salinity (ppm), Notes]\n",
       "Index: []"
      ]
     },
     "execution_count": 7,
     "metadata": {},
     "output_type": "execute_result"
    }
   ],
   "source": [
    "# read from excel file\n",
    "biweek = pd.read_excel(\"/home/millieginty/Documents/git-repos/ccbor/data/biweekly/ccbor-biweekly-all.xlsx\")\n",
    "\n",
    "biweek.head(10)"
   ]
  },
  {
   "cell_type": "code",
   "execution_count": null,
   "metadata": {},
   "outputs": [],
   "source": []
  }
 ],
 "metadata": {
  "kernelspec": {
   "display_name": "Python 3",
   "language": "python",
   "name": "python3"
  },
  "language_info": {
   "codemirror_mode": {
    "name": "ipython",
    "version": 3
   },
   "file_extension": ".py",
   "mimetype": "text/x-python",
   "name": "python",
   "nbconvert_exporter": "python",
   "pygments_lexer": "ipython3",
   "version": "3.8.3"
  }
 },
 "nbformat": 4,
 "nbformat_minor": 4
}
